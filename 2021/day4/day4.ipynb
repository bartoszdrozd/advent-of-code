{
 "cells": [
  {
   "cell_type": "code",
   "execution_count": 97,
   "id": "10f404b1-05b2-4bb4-9e3e-d6f7945de62d",
   "metadata": {},
   "outputs": [
    {
     "name": "stdout",
     "output_type": "stream",
     "text": [
      "['22 13 17 11  0\\n 8  2 23  4 24\\n21  9 14 16  7\\n 6 10  3 18  5\\n 1 12 20 15 19', ' 3 15  0  2 22\\n 9 18 13 17  5\\n19  8  7 25 23\\n20 11 10 24  4\\n14 21 16 12  6', '14 21 17 24  4\\n10 16 15  9 19\\n18  8 23 26 20\\n22 11 13  6  5\\n 2  0 12  3  7']\n",
      "['7', '4', '9', '5', '11', '17', '23', '2', '0', '14', '21', '24', '10', '16', '13', '6', '15', '25', '12', '22', '18', '20', '8', '19', '3', '26', '1']\n"
     ]
    }
   ],
   "source": [
    "import numpy as np\n",
    "\n",
    "file = 'testdata.txt'\n",
    "data = open(file).read()\n",
    "bingo_numbers = data.splitlines()[0]\n",
    "bingo_numbers = bingo_numbers.split(',')\n",
    "boards = data.split('\\n\\n')[1:]\n",
    "print(boards)\n",
    "print(bingo_numbers)\n"
   ]
  },
  {
   "cell_type": "code",
   "execution_count": 57,
   "id": "b7354a86-9015-45cf-b957-065609beae3e",
   "metadata": {},
   "outputs": [
    {
     "name": "stdout",
     "output_type": "stream",
     "text": [
      "[['22', '13', '17', '11', '0'], ['8', '2', '23', '4', '24'], ['21', '9', '14', '16', '7'], ['6', '10', '3', '18', '5'], ['1', '12', '20', '15', '19'], ['3', '15', '0', '2', '22'], ['9', '18', '13', '17', '5'], ['19', '8', '7', '25', '23'], ['20', '11', '10', '24', '4'], ['14', '21', '16', '12', '6'], ['14', '21', '17', '24', '4'], ['10', '16', '15', '9', '19'], ['18', '8', '23', '26', '20'], ['22', '11', '13', '6', '5'], ['2', '0', '12', '3', '7']]\n"
     ]
    }
   ],
   "source": [
    "matrices_list = []\n",
    "for elem in boards:\n",
    "    new_list = elem.split('\\n')\n",
    "    for item in new_list:\n",
    "        matrices_list.append(item.split())\n",
    "print(matrices_list)\n"
   ]
  },
  {
   "cell_type": "code",
   "execution_count": 106,
   "id": "75c1b661-bf19-466a-be87-0a3035d07914",
   "metadata": {},
   "outputs": [
    {
     "name": "stdout",
     "output_type": "stream",
     "text": [
      "{0: [['22', '13', '17', '11', '0'], ['8', '2', '23', '4', '24'], ['21', '9', '14', '16', '7'], ['6', '10', '3', '18', '5'], ['1', '12', '20', '15', '19']], 1: [['3', '15', '0', '2', '22'], ['9', '18', '13', '17', '5'], ['19', '8', '7', '25', '23'], ['20', '11', '10', '24', '4'], ['14', '21', '16', '12', '6']], 2: [['14', '21', '17', '24', '4'], ['10', '16', '15', '9', '19'], ['18', '8', '23', '26', '20'], ['22', '11', '13', '6', '5'], ['2', '0', '12', '3', '7']], 3: [], 4: [], 5: [], 6: [], 7: [], 8: [], 9: [], 10: [], 11: [], 12: [], 13: [], 14: [], 15: [], 16: [], 17: [], 18: [], 19: [], 20: [], 21: [], 22: [], 23: [], 24: []}\n"
     ]
    }
   ],
   "source": [
    "x = [i for i in range(25)]\n",
    "d = {i:[] for i in x}\n",
    "\n",
    "new = []\n",
    "index = 0\n",
    "for i in range(0, len(matrices_list), 5):\n",
    "    d[index] = (matrices_list[i : i+5])\n",
    "    index += 1\n",
    "\n",
    "print(d)\n",
    "    "
   ]
  },
  {
   "cell_type": "code",
   "execution_count": 107,
   "id": "dae9b0d1-113e-469e-bb83-e0a952b999b6",
   "metadata": {},
   "outputs": [],
   "source": [
    "#actual bingo game\n",
    "def intersection(lst1, lst2):\n",
    "    lst3 = [value for value in lst1 if value in lst2]\n",
    "    return lst3\n",
    "\n",
    "\n",
    "counter = 0\n",
    "for i in range(5): #specify how many elements in dictionary are going to be checked\n",
    "    arr = np.array(d[i])\n",
    "    counter += 1\n",
    "    for item in bingo_numbers[:counter]:\n",
    "        for elem in arr:\n",
    "            if len(intersection(bingo_numbers[:counter], elem)) == len(elem):\n",
    "                print(f\"Bingo: {elem}\")\n",
    "            #else:\n",
    "                #print(arr)\n",
    "                #print(bingo_numbers)\n",
    "\n",
    "        "
   ]
  },
  {
   "cell_type": "code",
   "execution_count": null,
   "id": "28acf07b-b33f-4888-9b48-286d28769f2c",
   "metadata": {},
   "outputs": [],
   "source": []
  }
 ],
 "metadata": {
  "kernelspec": {
   "display_name": "Python 3 (ipykernel)",
   "language": "python",
   "name": "python3"
  },
  "language_info": {
   "codemirror_mode": {
    "name": "ipython",
    "version": 3
   },
   "file_extension": ".py",
   "mimetype": "text/x-python",
   "name": "python",
   "nbconvert_exporter": "python",
   "pygments_lexer": "ipython3",
   "version": "3.9.7"
  }
 },
 "nbformat": 4,
 "nbformat_minor": 5
}
