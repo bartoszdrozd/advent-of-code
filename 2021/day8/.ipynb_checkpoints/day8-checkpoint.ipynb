{
 "cells": [
  {
   "cell_type": "code",
   "execution_count": 108,
   "id": "65db2891-e185-41cb-8546-a173fbb1801c",
   "metadata": {},
   "outputs": [],
   "source": [
    "with open(\"input.txt\") as f:\n",
    "    data = f.readlines()\n",
    "    #my data: answer1: 239, answer2: 946346 \n",
    "    #test_data: answer1: 26, answer2: 61229\n",
    "#print(data)"
   ]
  },
  {
   "cell_type": "code",
   "execution_count": 32,
   "id": "9b7775c2-dc19-4276-aa37-1910cad6079e",
   "metadata": {},
   "outputs": [
    {
     "name": "stdout",
     "output_type": "stream",
     "text": [
      "239\n"
     ]
    }
   ],
   "source": [
    "#task1\n",
    "counter = 0\n",
    "for elem in data:\n",
    "    elem = elem.split('|')\n",
    "    elem = elem[1].strip('\\n')\n",
    "    elem = elem.split()\n",
    "    for item in elem:\n",
    "        if len(item) == 2 or len(item) == 3 or len(item) == 4 or len(item) == 7:\n",
    "            counter += 1\n",
    "print(counter)\n"
   ]
  },
  {
   "cell_type": "code",
   "execution_count": 109,
   "id": "17a68fce-fbcf-4abc-a670-4b3191674115",
   "metadata": {},
   "outputs": [
    {
     "name": "stdout",
     "output_type": "stream",
     "text": [
      "['5123', '0103', '2551', '4667', '0076', '0910', '0514', '3270', '1682', '0810', '9614', '3238', '5309', '0659', '0247', '2699', '1609', '2550', '2535', '2623', '3126', '4563', '6228', '0337', '2015', '5585', '2330', '5675', '5625', '2634', '6935', '0285', '4820', '5050', '9871', '1685', '0359', '0766', '8570', '8905', '0191', '2462', '8227', '3678', '0663', '4245', '5473', '2626', '9006', '0540', '0631', '9522', '0370', '4706', '6549', '5965', '4770', '6984', '8769', '3408', '9673', '2223', '6789', '5800', '8493', '1546', '0355', '0051', '9579', '8028', '3329', '5800', '8554', '3861', '6134', '8358', '9723', '4355', '4933', '8949', '2163', '6226', '1976', '0578', '9342', '8865', '4851', '6962', '8999', '6150', '8805', '6884', '6963', '9938', '5709', '3609', '3009', '5697', '8919', '3986', '6913', '4252', '7291', '2058', '5198', '0256', '2969', '8651', '3749', '0329', '4490', '9063', '6319', '5653', '8152', '9513', '6996', '0076', '4311', '9056', '3264', '5355', '3876', '4934', '0313', '6930', '3732', '3203', '5665', '3405', '8313', '6661', '5241', '9577', '6433', '6719', '6301', '5098', '3493', '4147', '0720', '3855', '6509', '9093', '2825', '6268', '0884', '8829', '3150', '2863', '8856', '3678', '7857', '0355', '5928', '2415', '2799', '1654', '1799', '5845', '3800', '0366', '3492', '5239', '2701', '0967', '5554', '7502', '3566', '3789', '0577', '2345', '5713', '9329', '9533', '1902', '6614', '5185', '2801', '2329', '0596', '9161', '9673', '7068', '9174', '6108', '5029', '2856', '4444', '7980', '4749', '2680', '2203', '5380', '3062', '9276', '1126', '9037', '3601', '4600']\n"
     ]
    },
    {
     "data": {
      "text/plain": [
       "946346"
      ]
     },
     "execution_count": 109,
     "metadata": {},
     "output_type": "execute_result"
    }
   ],
   "source": [
    "#task2 \n",
    "\n",
    "def difference(lst1, lst2):\n",
    "    lst3 = [value for value in lst2 if value not in lst1]\n",
    "    return lst3\n",
    "\n",
    "def element_sum(elem_list):\n",
    "    output_sum = 0\n",
    "    for elem in elem_list:\n",
    "        output_sum += int(elem)\n",
    "    return output_sum\n",
    "\n",
    "decoded_list = []\n",
    "for elem in data:\n",
    "    elem = elem.split('|')\n",
    "    code = elem[0].split()\n",
    "    code = code * 2\n",
    "    message = elem[1].strip('\\n').split()\n",
    "    cipher = [\"\" for i in range(10)]\n",
    "    for item in code:\n",
    "        fourdiff = difference(cipher[1], cipher[4])\n",
    "        if len(item) == 2:\n",
    "            cipher[1] = item\n",
    "        elif len(item) == 3:\n",
    "            cipher[7] = item\n",
    "        elif len(item) == 4:\n",
    "            cipher[4] = item\n",
    "        elif len(item) == 7:\n",
    "            cipher[8] = item\n",
    "        elif len(item) == 5:\n",
    "            if (all(x in item for x in cipher[1])):\n",
    "                cipher[3] = item\n",
    "            elif (all(x in item for x in fourdiff)):\n",
    "                cipher[5] = item\n",
    "            else:\n",
    "                cipher[2] = item\n",
    "        elif len(item) == 6:\n",
    "            if (all(x in item for x in cipher[4])):\n",
    "                cipher[9] = item\n",
    "            elif (all(x in item for x in fourdiff)):\n",
    "                cipher[6] = item\n",
    "            else:\n",
    "                cipher[0] = item\n",
    "    counter = 0\n",
    "    for i in cipher:\n",
    "        cipher[counter] = sorted(cipher[counter])\n",
    "        counter += 1\n",
    "    decoded_message = \"\"\n",
    "    for elem in message:\n",
    "        if sorted(elem) in cipher:\n",
    "            x = cipher.index(sorted(elem))\n",
    "            decoded_message += str(x)\n",
    "    decoded_list.append(decoded_message)\n",
    "    \n",
    "print(decoded_list)\n",
    "element_sum(decoded_list)"
   ]
  },
  {
   "cell_type": "code",
   "execution_count": null,
   "id": "069a4342-ccec-4e2f-9fdb-be5ed5c3c796",
   "metadata": {},
   "outputs": [],
   "source": []
  },
  {
   "cell_type": "code",
   "execution_count": null,
   "id": "4c380439-2430-4a11-a75b-71486dcf1595",
   "metadata": {},
   "outputs": [],
   "source": []
  }
 ],
 "metadata": {
  "kernelspec": {
   "display_name": "Python 3 (ipykernel)",
   "language": "python",
   "name": "python3"
  },
  "language_info": {
   "codemirror_mode": {
    "name": "ipython",
    "version": 3
   },
   "file_extension": ".py",
   "mimetype": "text/x-python",
   "name": "python",
   "nbconvert_exporter": "python",
   "pygments_lexer": "ipython3",
   "version": "3.9.7"
  }
 },
 "nbformat": 4,
 "nbformat_minor": 5
}
