{
 "cells": [
  {
   "cell_type": "code",
   "execution_count": 2,
   "id": "65db2891-e185-41cb-8546-a173fbb1801c",
   "metadata": {},
   "outputs": [],
   "source": [
    "with open(\"test_input.txt\") as f:\n",
    "    data = f.readlines()\n",
    "    #my data: answer1: 239, answer2: ______ \n",
    "    #test_data: answer1: 26, answer2: 61229\n",
    "#print(data)"
   ]
  },
  {
   "cell_type": "code",
   "execution_count": 32,
   "id": "9b7775c2-dc19-4276-aa37-1910cad6079e",
   "metadata": {},
   "outputs": [
    {
     "name": "stdout",
     "output_type": "stream",
     "text": [
      "239\n"
     ]
    }
   ],
   "source": [
    "#task1\n",
    "counter = 0\n",
    "for elem in data:\n",
    "    elem = elem.split('|')\n",
    "    elem = elem[1].strip('\\n')\n",
    "    elem = elem.split()\n",
    "    for item in elem:\n",
    "        if len(item) == 2 or len(item) == 3 or len(item) == 4 or len(item) == 7:\n",
    "            counter += 1\n",
    "print(counter)"
   ]
  },
  {
   "cell_type": "code",
   "execution_count": 15,
   "id": "17a68fce-fbcf-4abc-a670-4b3191674115",
   "metadata": {},
   "outputs": [
    {
     "name": "stdout",
     "output_type": "stream",
     "text": [
      "['', 'be', '', '', 'cgeb', '', '', 'edb', 'cfbegad', '']\n",
      "['', 'gc', '', '', 'gfec', '', '', 'cbg', 'gcadebf', '']\n",
      "['', 'cg', '', '', 'gfac', '', '', 'gcb', 'cdgabef', '']\n",
      "['', 'bc', '', '', 'afcb', '', '', 'cbd', 'fcdbega', '']\n",
      "['', 'gf', '', '', 'fcge', '', '', 'fbg', 'aecbfdg', '']\n",
      "['', 'ca', '', '', 'baec', '', '', 'acf', 'bdacfeg', '']\n",
      "['', 'gf', '', '', 'fgec', '', '', 'fgd', 'bdegcaf', '']\n",
      "['', 'ed', '', '', 'bedf', '', '', 'ced', 'adcbefg', '']\n",
      "['', 'cg', '', '', 'cegd', '', '', 'cgb', 'gbdefca', '']\n",
      "['', 'gf', '', '', 'gaef', '', '', 'gcf', 'dcaebfg', '']\n",
      "True\n"
     ]
    }
   ],
   "source": [
    "#task2 \n",
    "cipher = [\"\" for i in range(10)]\n",
    "\n",
    "\n",
    "\n",
    "for elem in data:\n",
    "    elem = elem.split('|')\n",
    "    code = elem[0].split()\n",
    "    message = elem[1].strip('\\n').split()\n",
    "    for item in code:\n",
    "        if len(item) == 2:\n",
    "            cipher[1] = item\n",
    "        elif len(item) == 3:\n",
    "            cipher[7] = item\n",
    "        elif len(item) == 4:\n",
    "            cipher[4] = item\n",
    "        elif len(item) == 7:\n",
    "            cipher[8] = item\n",
    "        elif cipher[1] in item and cipher[7] in item:\n",
    "            cipher[3] = item\n",
    "    print(cipher)\n",
    "\n",
    "print('be' in 'cfbeg')"
   ]
  },
  {
   "cell_type": "code",
   "execution_count": null,
   "id": "069a4342-ccec-4e2f-9fdb-be5ed5c3c796",
   "metadata": {},
   "outputs": [],
   "source": []
  },
  {
   "cell_type": "code",
   "execution_count": null,
   "id": "4c380439-2430-4a11-a75b-71486dcf1595",
   "metadata": {},
   "outputs": [],
   "source": []
  }
 ],
 "metadata": {
  "kernelspec": {
   "display_name": "Python 3 (ipykernel)",
   "language": "python",
   "name": "python3"
  },
  "language_info": {
   "codemirror_mode": {
    "name": "ipython",
    "version": 3
   },
   "file_extension": ".py",
   "mimetype": "text/x-python",
   "name": "python",
   "nbconvert_exporter": "python",
   "pygments_lexer": "ipython3",
   "version": "3.9.7"
  }
 },
 "nbformat": 4,
 "nbformat_minor": 5
}
