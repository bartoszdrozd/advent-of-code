{
 "cells": [
  {
   "cell_type": "code",
   "execution_count": 43,
   "id": "d70597e7-f179-42b7-a83f-56a90b841f5b",
   "metadata": {},
   "outputs": [],
   "source": [
    "numbers_list = []\n",
    "file = 'input.txt'\n",
    "with open(file, 'r') as f:\n",
    "\tfor elem in f.readlines():\n",
    "\t\telem = elem.strip('\\n')\n",
    "\t\tnumbers_list.append(elem)"
   ]
  },
  {
   "cell_type": "code",
   "execution_count": 15,
   "id": "2f449176-84a3-4a85-a2aa-49351bb6ffbd",
   "metadata": {},
   "outputs": [
    {
     "name": "stdout",
     "output_type": "stream",
     "text": [
      "[506, 487, 509, 492, 491, 494, 472, 490, 487, 507, 503, 486]\n",
      "Answer:3923414\n"
     ]
    }
   ],
   "source": [
    "#task1\n",
    "\n",
    "stats_list = [0 for i in range(12)] #change range to len of the tested element\n",
    "#list with information about most signicant value in specific position\n",
    "\n",
    "for elem in numbers_list:\n",
    "\tidx = 0\n",
    "\tfor item in elem:\n",
    "\t\tstats_list[idx] += int(elem[idx])\n",
    "\t\tidx += 1\n",
    "print(stats_list)\n",
    "\n",
    "output_string = '' #gamma_rate\n",
    "#check here if elements in specific postion are bigger than mean value\n",
    "for elem in stats_list:\n",
    "\tif elem > len(numbers_list)/2:  \n",
    "\t\toutput_string += '1'\n",
    "\telse:\n",
    "\t\toutput_string += '0'\n",
    "\n",
    "reverted_string = '' #epsilon_rate\n",
    "for elem in output_string:\n",
    "\tif elem == \"1\":\n",
    "\t\treverted_string += '0'\n",
    "\telse:\n",
    "\t\treverted_string += '1'\n",
    "\n",
    "\n",
    "print(f\"Answer:{int(output_string,2) * int(reverted_string,2)}\") \n",
    "#test_answer: 198 my_answer:3923414"
   ]
  },
  {
   "cell_type": "code",
   "execution_count": 48,
   "id": "4ba4e218-3fc9-44d5-b01c-98fa565d5268",
   "metadata": {},
   "outputs": [
    {
     "name": "stdout",
     "output_type": "stream",
     "text": [
      "Oxygen generator rating: ['101101100111']\n",
      "CO2 scrubber rating: ['011111010101']\n",
      "Answer:5852595\n"
     ]
    }
   ],
   "source": [
    "#take all numbers and calculate occurance of the first value\n",
    "#withdraw the numbers that do not meeet the criteria \n",
    "#change counter to calucalte occurance of the next value\n",
    "\n",
    "def binary_first_elem_pop(input_list, number_to_drop, n):\n",
    "    for elem in list(input_list):\n",
    "        if elem[n] == number_to_drop:\n",
    "            input_list.remove(elem)\n",
    "\n",
    "    \n",
    "o2_rating = numbers_list.copy()\n",
    "co2_rating = numbers_list.copy()\n",
    "\n",
    "for i in range(len(numbers_list[0])): #range is the length of a element in a test list\n",
    "    if len(o2_rating) == 1:\n",
    "        break\n",
    "    zeros = 0\n",
    "    ones = 0\n",
    "    for elem in o2_rating:\n",
    "        if elem[i] == \"0\":\n",
    "            zeros += 1\n",
    "        elif elem[i] == \"1\":\n",
    "            ones += 1\n",
    "    if ones >= zeros:\n",
    "        binary_first_elem_pop(o2_rating, \"0\", i)\n",
    "    elif zeros > ones:\n",
    "        binary_first_elem_pop(o2_rating, \"1\", i)\n",
    "\n",
    "for i in range(len(numbers_list[0])): #range is the length of a element in a test list\n",
    "    if len(co2_rating) == 1:\n",
    "        break\n",
    "    zeros = 0\n",
    "    ones = 0\n",
    "    for elem in co2_rating:\n",
    "        if elem[i] == \"0\":\n",
    "            zeros += 1\n",
    "        elif elem[i] == \"1\":\n",
    "            ones += 1\n",
    "    if ones >= zeros:\n",
    "        binary_first_elem_pop(co2_rating, \"1\", i)\n",
    "    elif zeros > ones:\n",
    "        binary_first_elem_pop(co2_rating, \"0\", i)\n",
    "\n",
    "print(f\"Oxygen generator rating: {o2_rating}\")\n",
    "print(f\"CO2 scrubber rating: {co2_rating}\")\n",
    "print(f\"Answer:{int(o2_rating[0],2) * int(co2_rating[0],2)}\")\n",
    "#test_answer: 230 my_answer: 5852595"
   ]
  },
  {
   "cell_type": "code",
   "execution_count": null,
   "id": "7a90acaa-2419-4c39-926a-b219b4643c3d",
   "metadata": {},
   "outputs": [],
   "source": []
  }
 ],
 "metadata": {
  "kernelspec": {
   "display_name": "Python 3 (ipykernel)",
   "language": "python",
   "name": "python3"
  },
  "language_info": {
   "codemirror_mode": {
    "name": "ipython",
    "version": 3
   },
   "file_extension": ".py",
   "mimetype": "text/x-python",
   "name": "python",
   "nbconvert_exporter": "python",
   "pygments_lexer": "ipython3",
   "version": "3.9.7"
  }
 },
 "nbformat": 4,
 "nbformat_minor": 5
}
