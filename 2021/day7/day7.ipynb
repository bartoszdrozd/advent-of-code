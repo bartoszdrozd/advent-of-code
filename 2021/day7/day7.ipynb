{
 "cells": [
  {
   "cell_type": "code",
   "execution_count": 14,
   "id": "48baa7b0-53ea-4e6f-9aff-346f76e94b05",
   "metadata": {},
   "outputs": [],
   "source": [
    "data = [16,1,2,0,4,2,7,1,2,14]\n",
    "#test data: Answer1: 37, Answer2: 168"
   ]
  },
  {
   "cell_type": "code",
   "execution_count": null,
   "id": "8ec8de8a-6cab-4ddb-8773-c4065e5eacaa",
   "metadata": {},
   "outputs": [],
   "source": [
    "with open(\"input.txt\") as f:\n",
    "     data = list(map(int, f.read().split(\",\")))\n",
    "#my data: Answer1: 326132, Answer2: 88612508"
   ]
  },
  {
   "cell_type": "code",
   "execution_count": 6,
   "id": "fa9fd01f-9836-4835-87a9-a47802dd6efd",
   "metadata": {},
   "outputs": [
    {
     "name": "stdout",
     "output_type": "stream",
     "text": [
      "37\n"
     ]
    }
   ],
   "source": [
    "# task1\n",
    "end = max(data)\n",
    "fuel_consumption = [0 for i in range(end)]\n",
    "\n",
    "for elem in range(len(data)):\n",
    "    for item in range(end):\n",
    "        consumption = abs(item - data[elem])\n",
    "        fuel_consumption[item] += consumption\n",
    "print(min(fuel_consumption))"
   ]
  },
  {
   "cell_type": "code",
   "execution_count": 15,
   "id": "717ffe1f-5a6f-42f5-bc33-fa9fbe2437b4",
   "metadata": {},
   "outputs": [
    {
     "name": "stdout",
     "output_type": "stream",
     "text": [
      "88612508\n"
     ]
    }
   ],
   "source": [
    "# task2\n",
    "end = max(data)\n",
    "fuel_consumption = [0 for i in range(end)]\n",
    "\n",
    "for elem in range(len(data)):\n",
    "    for item in range(end):\n",
    "        steps = abs(item - data[elem])\n",
    "        consumption = 0\n",
    "        for i in range(steps + 1):\n",
    "            consumption += i\n",
    "        fuel_consumption[item] += consumption\n",
    "print(min(fuel_consumption))"
   ]
  },
  {
   "cell_type": "code",
   "execution_count": null,
   "id": "724d0318-1426-4618-adbb-32e0713739ed",
   "metadata": {},
   "outputs": [],
   "source": []
  }
 ],
 "metadata": {
  "kernelspec": {
   "display_name": "Python 3 (ipykernel)",
   "language": "python",
   "name": "python3"
  },
  "language_info": {
   "codemirror_mode": {
    "name": "ipython",
    "version": 3
   },
   "file_extension": ".py",
   "mimetype": "text/x-python",
   "name": "python",
   "nbconvert_exporter": "python",
   "pygments_lexer": "ipython3",
   "version": "3.9.7"
  }
 },
 "nbformat": 4,
 "nbformat_minor": 5
}
